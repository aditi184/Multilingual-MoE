{
 "cells": [
  {
   "cell_type": "code",
   "execution_count": 1,
   "id": "aa48896b",
   "metadata": {},
   "outputs": [],
   "source": [
    "with open(\"v4_train_tokenized_sizes.txt\") as f:\n",
    "    lines = f.readlines()"
   ]
  },
  {
   "cell_type": "code",
   "execution_count": 3,
   "id": "0f9d0b3d",
   "metadata": {},
   "outputs": [],
   "source": [
    "lines = [l.strip() for l in lines]"
   ]
  },
  {
   "cell_type": "code",
   "execution_count": 23,
   "id": "fdfb4e8d",
   "metadata": {},
   "outputs": [],
   "source": [
    "path_dict = {}\n",
    "for i, l in enumerate(lines[:-4]):\n",
    "    parts = l.split(\" \")\n",
    "    size_n = parts[-3]\n",
    "    size_u = parts[-2]\n",
    "    lang_file = \"/\".join(parts[-1].split(\"/\")[-2:])\n",
    "    path_dict[lang_file] = (size_n, size_u)"
   ]
  },
  {
   "cell_type": "code",
   "execution_count": 24,
   "id": "72112e8d",
   "metadata": {},
   "outputs": [
    {
     "data": {
      "text/plain": [
       "4535"
      ]
     },
     "execution_count": 24,
     "metadata": {},
     "output_type": "execute_result"
    }
   ],
   "source": [
    "len(path_dict)"
   ]
  },
  {
   "cell_type": "code",
   "execution_count": 28,
   "id": "9bd92bb4",
   "metadata": {},
   "outputs": [],
   "source": [
    "for key, val in path_dict.items():\n",
    "    assert val[1] in [\"MiB\", \"KiB\", \"GiB\", \"Bytes\"], val[1]"
   ]
  },
  {
   "cell_type": "code",
   "execution_count": 29,
   "id": "fb6c701a",
   "metadata": {},
   "outputs": [],
   "source": [
    "multiplier = {\n",
    "    \"GiB\": 1,\n",
    "    \"MiB\": 1/1024,\n",
    "    \"KiB\": 1/(1024*1024),\n",
    "    \"Bytes\": 1/(1024*1024*1024)\n",
    "}"
   ]
  },
  {
   "cell_type": "code",
   "execution_count": 32,
   "id": "e7868d19",
   "metadata": {},
   "outputs": [],
   "source": [
    "path_size_dict = {}\n",
    "for key, val in path_dict.items():\n",
    "    size = float(val[0]) * multiplier[val[1]]\n",
    "    path_size_dict[key] = size"
   ]
  },
  {
   "cell_type": "code",
   "execution_count": 34,
   "id": "b947af07",
   "metadata": {},
   "outputs": [],
   "source": [
    "total = sum([val for _, val in path_size_dict.items()])"
   ]
  },
  {
   "cell_type": "code",
   "execution_count": 35,
   "id": "8107bb91",
   "metadata": {},
   "outputs": [
    {
     "data": {
      "text/plain": [
       "668.4268590155998"
      ]
     },
     "execution_count": 35,
     "metadata": {},
     "output_type": "execute_result"
    }
   ],
   "source": [
    "total"
   ]
  },
  {
   "cell_type": "code",
   "execution_count": 36,
   "id": "c7636ce6",
   "metadata": {},
   "outputs": [],
   "source": [
    "lang_size_dict = {}\n",
    "for key, val in path_size_dict.items():\n",
    "    lang  = key.split(\"/\")[0]\n",
    "    if lang in lang_size_dict:\n",
    "        lang_size_dict[lang] += val\n",
    "    else:\n",
    "        lang_size_dict[lang] = val"
   ]
  },
  {
   "cell_type": "code",
   "execution_count": 39,
   "id": "f44ba23f",
   "metadata": {},
   "outputs": [
    {
     "data": {
      "text/plain": [
       "{'abap': 0.0580078125,\n",
       " 'actionscript': 0.37919921875,\n",
       " 'ada': 0.17041015625,\n",
       " 'agda': 0.06552734375,\n",
       " 'ags-script': 0.00595703125,\n",
       " 'alloy': 0.009375,\n",
       " 'ampl': 4.634857177734375e-05,\n",
       " 'antlr': 0.0408203125,\n",
       " 'apacheconf': 0.000142669677734375,\n",
       " 'api-blueprint': 0.01181640625,\n",
       " 'apl': 0.00478515625,\n",
       " 'applescript': 0.005078125,\n",
       " 'arc': 0.01552734375,\n",
       " 'arduino': 0.47548828125,\n",
       " 'asciidoc': 0.60576171875,\n",
       " 'asp': 0.24052734375,\n",
       " 'aspectj': 0.00419921875,\n",
       " 'ats': 0.01162109375,\n",
       " 'augeas': 0.00048694610595703127,\n",
       " 'autohotkey': 0.049609375,\n",
       " 'autoit': 0.05537109375,\n",
       " 'awk': 0.015625,\n",
       " 'batchfile': 0.1775390625,\n",
       " 'befunge': 1.049041748046875e-06,\n",
       " 'bison': 0.0025390625,\n",
       " 'bitbake': 0.06318359375,\n",
       " 'blitzbasic': 0.0009765625,\n",
       " 'blitzmax': 0.00830078125,\n",
       " 'bluespec': 0.02216796875,\n",
       " 'boo': 0.00302734375,\n",
       " 'brainfuck': 0.0236328125,\n",
       " 'brightscript': 0.00771484375,\n",
       " 'bro': 0.0017578125,\n",
       " 'c++': 38.53261718750002,\n",
       " 'c-sharp': 26.718652343749998,\n",
       " 'c': 46.54755859375,\n",
       " 'c2hs-haskell': 0.007421875,\n",
       " \"cap'n-proto\": 0.001953125,\n",
       " 'cartocss': 0.0125,\n",
       " 'ceylon': 0.00810546875,\n",
       " 'chapel': 0.02216796875,\n",
       " 'chuck': 0.0021484375,\n",
       " 'cirru': 0.03671875,\n",
       " 'clarion': 0.00712890625,\n",
       " 'clean': 0.00244140625,\n",
       " 'click': 0.0009663581848144531,\n",
       " 'clips': 0.0068359375,\n",
       " 'clojure': 0.3046875,\n",
       " 'cmake': 0.390234375,\n",
       " 'cobol': 0.00732421875,\n",
       " 'coffeescript': 0.472265625,\n",
       " 'coldfusion-cfc': 0.0419921875,\n",
       " 'coldfusion': 0.03994140625,\n",
       " 'common-lisp': 1.1525390624999998,\n",
       " 'component-pascal': 0.001491546630859375,\n",
       " 'coq': 0.0001453399658203125,\n",
       " 'creole': 0.0003691673278808594,\n",
       " 'crystal': 0.1587890625,\n",
       " 'csound': 0.0265625,\n",
       " 'css': 12.971582031250001,\n",
       " 'cucumber': 0.12158203125,\n",
       " 'cuda': 0.4419921875,\n",
       " 'cycript': 0.00634765625,\n",
       " 'cython': 0.22841796874999998,\n",
       " 'd': 0.0006699562072753906,\n",
       " 'darcs-patch': 0.00185546875,\n",
       " 'dart': 2.48896484375,\n",
       " 'desktop': 0.00625,\n",
       " 'diff': 1.67802734375,\n",
       " 'digital-command-language': 0.02783203125,\n",
       " 'dm': 0.01748046875,\n",
       " 'dns-zone': 0.0208984375,\n",
       " 'dockerfile': 0.33789062499999994,\n",
       " 'dogescript': 7.982254028320313e-05,\n",
       " 'dylan': 0.02353515625,\n",
       " 'eagle': 0.52958984375,\n",
       " 'ec': 0.015234375,\n",
       " 'ecere-projects': 0.0006861686706542969,\n",
       " 'ecl': 0.01376953125,\n",
       " 'edn': 1.00927734375,\n",
       " 'eiffel': 0.08193359375,\n",
       " 'elixir': 0.5392578125,\n",
       " 'elm': 0.16298828125,\n",
       " 'emacs-lisp': 0.3216796875,\n",
       " 'emberscript': 0.01904296875,\n",
       " 'erlang': 0.5650390625000001,\n",
       " 'f-sharp': 0.35703125,\n",
       " 'factor': 0.023046875,\n",
       " 'fancy': 0.0007231712341308593,\n",
       " 'fantom': 0.00615234375,\n",
       " 'fish': 0.0205078125,\n",
       " 'flux': 0.0041015625,\n",
       " 'forth': 0.0130859375,\n",
       " 'fortran': 1.4002929687499999,\n",
       " 'freemarker': 0.14931640625,\n",
       " 'g-code': 0.79560546875,\n",
       " 'gams': 0.0529296875,\n",
       " 'gap': 0.00693359375,\n",
       " 'gas': 1.13232421875,\n",
       " 'gdscript': 0.1630859375,\n",
       " 'genshi': 0.00751953125,\n",
       " 'gentoo-ebuild': 0.03681640625,\n",
       " 'gentoo-eclass': 0.00185546875,\n",
       " 'gettext-catalog': 6.118554687500001,\n",
       " 'glsl': 0.37373046875,\n",
       " 'glyph': 0.00045299530029296875,\n",
       " 'gnuplot': 1.49072265625,\n",
       " 'go': 19.071679687499998,\n",
       " 'golo': 0.0003914833068847656,\n",
       " 'gosu': 0.00205078125,\n",
       " 'grace': 0.0005675315856933594,\n",
       " 'grammatical-framework': 0.02939453125,\n",
       " 'graphql': 0.07490234375,\n",
       " 'graphviz-(dot)': 0.70576171875,\n",
       " 'groff': 1.4193359375,\n",
       " 'groovy-server-pages': 0.02861328125,\n",
       " 'groovy': 0.5736328125,\n",
       " 'haml': 0.09501953125000001,\n",
       " 'handlebars': 0.30185546874999997,\n",
       " 'harbour': 0.0008475303649902344,\n",
       " 'haskell': 1.503515625,\n",
       " 'haxe': 0.3578125,\n",
       " 'hcl': 0.5681640625,\n",
       " 'hlsl': 0.05078125,\n",
       " 'html+django': 0.07441406249999999,\n",
       " 'html+eex': 0.01357421875,\n",
       " 'html+erb': 0.565625,\n",
       " 'html+php': 0.21093749999999997,\n",
       " 'html': 27.962402343749996,\n",
       " 'http': 0.0328125,\n",
       " 'hy': 0.0044921875,\n",
       " 'idl': 0.0008973121643066406,\n",
       " 'idris': 0.02080078125,\n",
       " 'igor-pro': 0.0072265625,\n",
       " 'inform-7': 0.00400390625,\n",
       " 'ini': 1.64345703125,\n",
       " 'inno-setup': 0.01103515625,\n",
       " 'io': 0.00390625,\n",
       " 'ioke': 0.00126953125,\n",
       " 'irc-log': 0.00517578125,\n",
       " 'isabelle': 0.06650390625,\n",
       " 'j': 0.0109375,\n",
       " 'jade': 0.09218749999999999,\n",
       " 'jasmin': 0.02314453125,\n",
       " 'java-server-pages': 0.7576171875,\n",
       " 'java': 43.815625,\n",
       " 'javascript': 30.87646484375001,\n",
       " 'jflex': 0.00859375,\n",
       " 'jsx': 1.5202148437500005,\n",
       " 'julia': 1.0384765624999999,\n",
       " 'jupyter-notebook': 10.624511718749998,\n",
       " 'kicad': 2.46591796875,\n",
       " 'kit': 0.00263671875,\n",
       " 'kotlin': 3.395703125000001,\n",
       " 'krl': 0.0006129264831542969,\n",
       " 'labview': 1.1362135410308838e-07,\n",
       " 'lasso': 0.01904296875,\n",
       " 'latte': 0.0080078125,\n",
       " 'lean': 0.1283203125,\n",
       " 'less': 0.67080078125,\n",
       " 'lex': 0.05830078125,\n",
       " 'lfe': 0.0013671875,\n",
       " 'lilypond': 0.0220703125,\n",
       " 'linker-script': 0.02958984375,\n",
       " 'liquid': 0.054296875,\n",
       " 'literate-agda': 0.00419921875,\n",
       " 'literate-coffeescript': 0.0025390625,\n",
       " 'literate-haskell': 0.039453125,\n",
       " 'livescript': 0.02216796875,\n",
       " 'llvm': 0.5681640625000001,\n",
       " 'logos': 0.29326171875,\n",
       " 'logtalk': 0.0064453125,\n",
       " 'lolcode': 0.0007294654846191406,\n",
       " 'lookml': 0.00400390625,\n",
       " 'lsl': 0.0078125,\n",
       " 'lua': 2.1642578124999994,\n",
       " 'm': 4.6539306640625e-05,\n",
       " 'm4': 0.10068359375,\n",
       " 'makefile': 1.3619140625000001,\n",
       " 'mako': 0.0197265625,\n",
       " 'maple': 0.01279296875,\n",
       " 'markdown': 50.2193359375,\n",
       " 'mask': 0.00595703125,\n",
       " 'mathematica': 1.3315429687500002,\n",
       " 'matlab': 0.0408203125,\n",
       " 'max': 0.35146484375,\n",
       " 'maxscript': 0.0037109375,\n",
       " 'mediawiki': 0.21220703124999998,\n",
       " 'metal': 0.01044921875,\n",
       " 'mirah': 0.058203125,\n",
       " 'modelica': 0.06728515625,\n",
       " 'module-management-system': 0.00146484375,\n",
       " 'monkey': 0.0046875,\n",
       " 'moonscript': 0.00966796875,\n",
       " 'mtml': 0.0007442474365234375,\n",
       " 'muf': 0.0009558677673339843,\n",
       " 'mupad': 0.0056640625,\n",
       " 'myghty': 6.06536865234375e-05,\n",
       " 'nesc': 0.1287109375,\n",
       " 'netlinx': 0.0009411811828613281,\n",
       " 'netlogo': 0.02177734375,\n",
       " 'nginx': 1.5354156494140626e-05,\n",
       " 'nimrod': 0.27314453125,\n",
       " 'ninja': 0.0103515625,\n",
       " 'nit': 0.00015153884887695313,\n",
       " 'nix': 0.42197265624999997,\n",
       " 'nsis': 0.01923828125,\n",
       " 'nu': 0.001171875,\n",
       " 'numpy': 6.198883056640625e-06,\n",
       " 'objdump': 0.0515625,\n",
       " 'objective-c++': 0.35039062499999996,\n",
       " 'objective-j': 0.0015625,\n",
       " 'ocaml': 0.79072265625,\n",
       " 'octave': 0.003515625,\n",
       " 'omgrofl': 2.288818359375e-06,\n",
       " 'ooc': 0.00283203125,\n",
       " 'opa': 0.00224609375,\n",
       " 'opal': 0.00027523040771484377,\n",
       " 'opencl': 0.13671875,\n",
       " 'openscad': 0.06660156249999999,\n",
       " 'org': 0.19570312499999998,\n",
       " 'ox': 0.00107421875,\n",
       " 'oxygene': 3.0517578125e-06,\n",
       " 'oz': 0.00263671875,\n",
       " 'pan': 0.0064453125,\n",
       " 'papyrus': 0.03642578125,\n",
       " 'parrot-assembly': 0.0004383087158203125,\n",
       " 'parrot-internal-representation': 0.00771484375,\n",
       " 'parrot': 4.444122314453125e-05,\n",
       " 'pascal': 1.1779296875,\n",
       " 'pawn': 0.03203125,\n",
       " 'perl': 1.7818359375000004,\n",
       " 'perl6': 0.0298828125,\n",
       " 'php': 44.04492187500002,\n",
       " 'piglatin': 0.0015625,\n",
       " 'pike': 0.00224609375,\n",
       " 'pod': 0.07939453125000001,\n",
       " 'pogoscript': 0.0002774238586425781,\n",
       " 'pony': 0.00947265625,\n",
       " 'postscript': 1.4233398437500002,\n",
       " 'pov-ray-sdl': 0.01630859375,\n",
       " 'powershell': 0.8455078125,\n",
       " 'processing': 0.112109375,\n",
       " 'prolog': 0.008203125,\n",
       " 'propeller-spin': 0.01240234375,\n",
       " 'protocol-buffer': 0.2400390625,\n",
       " 'pure-data': 0.07568359375,\n",
       " 'purebasic': 0.02236328125,\n",
       " 'purescript': 0.06416015625,\n",
       " 'python-traceback': 3.843307495117187e-05,\n",
       " 'python': 33.2271484375,\n",
       " 'qmake': 0.01259765625,\n",
       " 'qml': 0.10166015625,\n",
       " 'r': 0.2392578125,\n",
       " 'racket': 0.02080078125,\n",
       " 'ragel-in-ruby-host': 0.0080078125,\n",
       " 'raml': 0.0169921875,\n",
       " 'rdoc': 0.01728515625,\n",
       " 'realbasic': 0.00498046875,\n",
       " 'rebol': 0.0041015625,\n",
       " 'red': 0.02880859375,\n",
       " 'redcode': 0.00126953125,\n",
       " \"ren'py\": 0.07900390625,\n",
       " 'renderscript': 0.0013671875,\n",
       " 'restructuredtext': 2.1191406250000004,\n",
       " 'rhtml': 0.0056640625,\n",
       " 'rmarkdown': 0.0310546875,\n",
       " 'robotframework': 0.03369140625,\n",
       " 'rouge': 0.00205078125,\n",
       " 'ruby': 5.358203124999999,\n",
       " 'rust': 7.061816406249998,\n",
       " 'sage': 0.00703125,\n",
       " 'saltstack': 0.02568359375,\n",
       " 'sas': 0.05830078125,\n",
       " 'sass': 0.1115234375,\n",
       " 'scala': 3.2153320312499996,\n",
       " 'scaml': 6.723403930664062e-05,\n",
       " 'scheme': 0.321484375,\n",
       " 'scilab': 0.00625,\n",
       " 'scss': 3.1214843750000005,\n",
       " 'self': 0.0002760887145996094,\n",
       " 'shell': 2.3828124999999996,\n",
       " 'shellsession': 1.5163421630859375e-05,\n",
       " 'shen': 0.0006747245788574219,\n",
       " 'slash': 0.01650390625,\n",
       " 'slim': 0.033789062499999994,\n",
       " 'smali': 2.16875,\n",
       " 'smalltalk': 0.39873046875000007,\n",
       " 'smarty': 0.3015625,\n",
       " 'smt': 0.17597656250000002,\n",
       " 'solidity': 0.742578125,\n",
       " 'sourcepawn': 0.05576171875,\n",
       " 'sparql': 0.03017578125,\n",
       " 'sqf': 0.08154296875,\n",
       " 'sql': 4.3116210937499995,\n",
       " 'squirrel': 0.0201171875,\n",
       " 'stan': 0.010546875,\n",
       " 'standard-ml': 0.3396484375,\n",
       " 'stata': 0.28857421875,\n",
       " 'ston': 0.0005663871765136719,\n",
       " 'stylus': 0.091015625,\n",
       " 'supercollider': 0.01064453125,\n",
       " 'swift': 3.43818359375,\n",
       " 'systemverilog': 0.36669921875,\n",
       " 'tcl': 0.27255859374999997,\n",
       " 'tcsh': 0.0142578125,\n",
       " 'tea': 0.02412109375,\n",
       " 'tex': 2.71103515625,\n",
       " 'text': 109.32314453125001,\n",
       " 'textile': 0.0166015625,\n",
       " 'thrift': 0.01015625,\n",
       " 'toml': 0.46650390624999993,\n",
       " 'turing': 0.00205078125,\n",
       " 'turtle': 1.4148437499999997,\n",
       " 'twig': 0.63369140625,\n",
       " 'txl': 0.0008522987365722657,\n",
       " 'typescript': 18.264648437499996,\n",
       " 'unified-parallel-c': 0.0009341239929199219,\n",
       " 'unity3d-asset': 6.118945312500003,\n",
       " 'uno': 0.00634765625,\n",
       " 'unrealscript': 0.04013671875,\n",
       " 'urweb': 0.002734375,\n",
       " 'vala': 0.01337890625,\n",
       " 'vcl': 0.003125,\n",
       " 'verilog': 0.0003342628479003906,\n",
       " 'vhdl': 1.04267578125,\n",
       " 'viml': 0.25576171875,\n",
       " 'visual-basic': 0.8592773437500001,\n",
       " 'volt': 0.00732421875,\n",
       " 'vue': 4.678808593750002,\n",
       " 'web-ontology-language': 0.026678085327148438,\n",
       " 'webassembly': 0.0708984375,\n",
       " 'webidl': 0.0025390625,\n",
       " 'wisp': 0.00037755966186523435,\n",
       " 'x10': 0.0008893013000488281,\n",
       " 'xbase': 0.04287109375,\n",
       " 'xc': 0.00400390625,\n",
       " 'xml': 16.477636718749995,\n",
       " 'xojo': 0.0154296875,\n",
       " 'xpages': 2.574920654296875e-05,\n",
       " 'xproc': 0.00224609375,\n",
       " 'xquery': 0.02412109375,\n",
       " 'xs': 0.0197265625,\n",
       " 'xslt': 0.03486328125,\n",
       " 'xtend': 0.0267578125,\n",
       " 'yacc': 0.2791015625,\n",
       " 'yaml': 23.140429687499992,\n",
       " 'yang': 0.09873046875,\n",
       " 'zephir': 0.0060546875,\n",
       " 'zig': 0.15009765625}"
      ]
     },
     "execution_count": 39,
     "metadata": {},
     "output_type": "execute_result"
    }
   ],
   "source": [
    "lang_size_dict"
   ]
  },
  {
   "cell_type": "code",
   "execution_count": 67,
   "id": "b399cc0b",
   "metadata": {},
   "outputs": [],
   "source": [
    "sorted_lang_sizes = sorted(lang_size_dict.items(), key=lambda x:x[1], reverse=True)"
   ]
  },
  {
   "cell_type": "code",
   "execution_count": 73,
   "id": "6a9565b8",
   "metadata": {},
   "outputs": [],
   "source": [
    "top_n_langs = [tup[0] for tup in sorted_lang_sizes[:30]]"
   ]
  },
  {
   "cell_type": "code",
   "execution_count": 70,
   "id": "2faa1495",
   "metadata": {},
   "outputs": [],
   "source": [
    "top_n_dict = {tup[0]: tup[1] for tup in sorted_lang_sizes[:30]}"
   ]
  },
  {
   "cell_type": "code",
   "execution_count": 41,
   "id": "8a3ba5ba",
   "metadata": {},
   "outputs": [
    {
     "name": "stdout",
     "output_type": "stream",
     "text": [
      "Collecting seaborn\n",
      "  Using cached seaborn-0.12.2-py3-none-any.whl (293 kB)\n",
      "Collecting matplotlib!=3.6.1,>=3.1\n",
      "  Downloading matplotlib-3.7.2-cp310-cp310-macosx_11_0_arm64.whl (7.3 MB)\n",
      "\u001b[2K     \u001b[90m━━━━━━━━━━━━━━━━━━━━━━━━━━━━━━━━━━━━━━━━\u001b[0m \u001b[32m7.3/7.3 MB\u001b[0m \u001b[31m24.4 MB/s\u001b[0m eta \u001b[36m0:00:00\u001b[0m00:01\u001b[0m00:01\u001b[0m\n",
      "\u001b[?25hRequirement already satisfied: pandas>=0.25 in /Users/akshitab/virtuals/llm/lib/python3.10/site-packages (from seaborn) (1.5.3)\n",
      "Requirement already satisfied: numpy!=1.24.0,>=1.17 in /Users/akshitab/virtuals/llm/lib/python3.10/site-packages (from seaborn) (1.22.4)\n",
      "Collecting cycler>=0.10\n",
      "  Using cached cycler-0.11.0-py3-none-any.whl (6.4 kB)\n",
      "Collecting kiwisolver>=1.0.1\n",
      "  Downloading kiwisolver-1.4.4-cp310-cp310-macosx_11_0_arm64.whl (63 kB)\n",
      "\u001b[2K     \u001b[90m━━━━━━━━━━━━━━━━━━━━━━━━━━━━━━━━━━━━━━━━\u001b[0m \u001b[32m63.2/63.2 kB\u001b[0m \u001b[31m2.2 MB/s\u001b[0m eta \u001b[36m0:00:00\u001b[0m\n",
      "\u001b[?25hRequirement already satisfied: python-dateutil>=2.7 in /Users/akshitab/virtuals/llm/lib/python3.10/site-packages (from matplotlib!=3.6.1,>=3.1->seaborn) (2.8.2)\n",
      "Requirement already satisfied: packaging>=20.0 in /Users/akshitab/virtuals/llm/lib/python3.10/site-packages (from matplotlib!=3.6.1,>=3.1->seaborn) (22.0)\n",
      "Requirement already satisfied: pillow>=6.2.0 in /Users/akshitab/virtuals/llm/lib/python3.10/site-packages (from matplotlib!=3.6.1,>=3.1->seaborn) (9.4.0)\n",
      "Collecting fonttools>=4.22.0\n",
      "  Downloading fonttools-4.42.0-cp310-cp310-macosx_10_9_universal2.whl (2.7 MB)\n",
      "\u001b[2K     \u001b[90m━━━━━━━━━━━━━━━━━━━━━━━━━━━━━━━━━━━━━━━━\u001b[0m \u001b[32m2.7/2.7 MB\u001b[0m \u001b[31m24.8 MB/s\u001b[0m eta \u001b[36m0:00:00\u001b[0m00:01\u001b[0m00:01\u001b[0m\n",
      "\u001b[?25hCollecting contourpy>=1.0.1\n",
      "  Downloading contourpy-1.1.0-cp310-cp310-macosx_11_0_arm64.whl (229 kB)\n",
      "\u001b[2K     \u001b[90m━━━━━━━━━━━━━━━━━━━━━━━━━━━━━━━━━━━━━━━\u001b[0m \u001b[32m229.4/229.4 kB\u001b[0m \u001b[31m8.1 MB/s\u001b[0m eta \u001b[36m0:00:00\u001b[0m\n",
      "\u001b[?25hCollecting pyparsing<3.1,>=2.3.1\n",
      "  Using cached pyparsing-3.0.9-py3-none-any.whl (98 kB)\n",
      "Requirement already satisfied: pytz>=2020.1 in /Users/akshitab/virtuals/llm/lib/python3.10/site-packages (from pandas>=0.25->seaborn) (2022.7.1)\n",
      "Requirement already satisfied: six>=1.5 in /Users/akshitab/virtuals/llm/lib/python3.10/site-packages (from python-dateutil>=2.7->matplotlib!=3.6.1,>=3.1->seaborn) (1.16.0)\n",
      "Installing collected packages: pyparsing, kiwisolver, fonttools, cycler, contourpy, matplotlib, seaborn\n",
      "  Attempting uninstall: pyparsing\n",
      "    Found existing installation: pyparsing 3.1.0\n",
      "    Uninstalling pyparsing-3.1.0:\n",
      "      Successfully uninstalled pyparsing-3.1.0\n",
      "Successfully installed contourpy-1.1.0 cycler-0.11.0 fonttools-4.42.0 kiwisolver-1.4.4 matplotlib-3.7.2 pyparsing-3.0.9 seaborn-0.12.2\n"
     ]
    }
   ],
   "source": [
    "!pip install seaborn"
   ]
  },
  {
   "cell_type": "code",
   "execution_count": 42,
   "id": "43a6ce0d",
   "metadata": {},
   "outputs": [],
   "source": [
    "import seaborn as sns\n",
    "sns.set_theme(style=\"whitegrid\")"
   ]
  },
  {
   "cell_type": "code",
   "execution_count": 45,
   "id": "71ca3f77",
   "metadata": {},
   "outputs": [],
   "source": [
    "import pandas as pd"
   ]
  },
  {
   "cell_type": "code",
   "execution_count": 75,
   "id": "852e0939",
   "metadata": {},
   "outputs": [],
   "source": [
    "top_n_dict = {key: lang_size_dict[key] for key in top_n_langs}\n",
    "df = pd.DataFrame.from_dict(top_n_dict, orient=\"index\", columns=[\"size\"])"
   ]
  },
  {
   "cell_type": "code",
   "execution_count": 76,
   "id": "e77b00f2",
   "metadata": {},
   "outputs": [],
   "source": [
    "df[\"tokens\"] = df[\"size\"] / 2"
   ]
  },
  {
   "cell_type": "code",
   "execution_count": 77,
   "id": "79385048",
   "metadata": {},
   "outputs": [],
   "source": [
    "df = df.reset_index().rename(columns={\"index\": \"lang\"})"
   ]
  },
  {
   "cell_type": "code",
   "execution_count": 85,
   "id": "69b74c9c",
   "metadata": {},
   "outputs": [
    {
     "name": "stderr",
     "output_type": "stream",
     "text": [
      "/var/folders/2h/2k7br48j493_xlq7pgyby7xw0000gp/T/ipykernel_77752/2184295945.py:1: FutureWarning: \n",
      "\n",
      "The `ci` parameter is deprecated. Use `errorbar=None` for the same effect.\n",
      "\n",
      "  ax = sns.barplot(df, x=\"lang\", y=\"tokens\", estimator=sum, ci=None, color=\"lightblue\")\n"
     ]
    },
    {
     "data": {
      "text/plain": [
       "Text(0.5, 1.0, 'Distribution of top 30 programming languages in stack-v4')"
      ]
     },
     "execution_count": 85,
     "metadata": {},
     "output_type": "execute_result"
    },
    {
     "data": {
      "image/png": "[encoded data removed]",
      "text/plain": [
       "<Figure size 640x480 with 1 Axes>"
      ]
     },
     "metadata": {},
     "output_type": "display_data"
    }
   ],
   "source": [
    "ax = sns.barplot(df, x=\"lang\", y=\"tokens\", estimator=sum, ci=None, color=\"lightblue\")\n",
    "ax.set(xlabel=\"Language\", ylabel=\"Number of tokens (billions)\")\n",
    "ax.tick_params(axis='x', rotation=90)\n",
    "ax.set_title(\"Distribution of top 30 programming languages in stack-v4\")"
   ]
  },
  {
   "cell_type": "code",
   "execution_count": null,
   "id": "5a00768e",
   "metadata": {},
   "outputs": [],
   "source": []
  }
 ],
 "metadata": {
  "kernelspec": {
   "display_name": "Python 3 (ipykernel)",
   "language": "python",
   "name": "python3"
  },
  "language_info": {
   "codemirror_mode": {
    "name": "ipython",
    "version": 3
   },
   "file_extension": ".py",
   "mimetype": "text/x-python",
   "name": "python",
   "nbconvert_exporter": "python",
   "pygments_lexer": "ipython3",
   "version": "3.10.9"
  }
 },
 "nbformat": 4,
 "nbformat_minor": 5
}
